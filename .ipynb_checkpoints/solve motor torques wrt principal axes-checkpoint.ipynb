{
 "metadata": {
  "celltoolbar": "Raw Cell Format",
  "name": "",
  "signature": "sha256:2130bcc02b461edfc3966b55aa3355f431bf4b6b38ce58535ae06d689389cf7c"
 },
 "nbformat": 3,
 "nbformat_minor": 0,
 "worksheets": [
  {
   "cells": [
    {
     "cell_type": "code",
     "collapsed": false,
     "input": [
      "import sympy as sym\n",
      "from sympy import pprint\n",
      "import numpy as np\n",
      "import matplotlib \n",
      "from IPython.display import display, Math, Latex\n",
      "\n",
      "T_x, T_y, T_z, T_a, T_b, T_c, T_d, C, Sin(45), Cos(45), Cos(53) = sym.symbols('T_x, T_y, T_z, T_a, T_b, T_c, T_d, C, sin(45), cos(45), cos(53)')\n",
      "\n",
      "#equations:\n",
      "# T_x = sin(45)*(T_a+T_b-T_c-T_d) -> eqA = sin(45)*(T_a+T_b-T_c-T_d)-T_X\n",
      "# T_y = cos(45)*(T_a-T_b-T_c+T_d) -> eqB = cos(45)*(T_a-T_b-T_c+T_d)-T_y\n",
      "# T_z = cos(53)*(T_a+T_b+T_c+T_d) -> eqC = cos(53)*(T_a+T_b+T_c+T_d)-T_z\n",
      "# C = T_a**2+T_b**2+T_c**2+T_d**2 -> eqD = T_a**2+T_b**2+T_c**2+T_d**2-C\n",
      "eqA = Sin(45)*(T_a+T_b-T_c-T_d)-T_x\n",
      "eqB = Cos(45)*(T_a-T_b-T_c+T_d)-T_y\n",
      "eqC = Cos(53)*(T_a+T_b+T_c+T_d)-T_z\n",
      "eqD = T_a**2+T_b**2+T_c**2+T_d**2-C\n",
      "eqns = [eqA,eqB,eqC,eqD]\n",
      "solutions = sym.solve(eqns, T_a, T_b, T_c, T_d, dict=True)\n",
      "#print(solutions)\n",
      "#display(solutions)\n",
      "display(Math(r'T_a=0.353553390593274T_x + 0.353553390593274T_y + 0.415410035280621T_z - 1.06344969031839*10^{-43}\\sqrt(2.21057935846863*10^{85}C - 1.10528967923432*10^{85}T_x^2 - 1.10528967923431*10^{85}T_y^2 - 1.52587890625*10^{85}T_z^2)'))\n",
      "display(Math(r'T_b=0.353553390593274T_x - 0.353553390593274T_y + 0.415410035280621T_z + 1.06344969031839*10^{-43}\\sqrt(2.21057935846863*10^{85}C - 1.10528967923432*10^{85}T_x^2 - 1.10528967923431*10^{85}T_y^2 - 1.52587890625*10^{85}T_z^2)'))\n",
      "display(Math(r'T_c=-0.353553390593274T_x - 0.353553390593274T_y + 0.415410035280621T_z - 1.06344969031839*10^{-43}\\sqrt(2.21057935846863*10^{85}C - 1.10528967923432*10^{85}T_x^2 - 1.10528967923431*10^{85}T_y^2 - 1.52587890625*10^{85}T_z^2)'))\n",
      "display(Math(r'T_d=-0.353553390593274T_x + 0.353553390593274T_y + 0.415410035280621T_z + 1.06344969031839*10^{-43}\\sqrt(2.21057935846863*10^{85}C - 1.10528967923432*10^{85}T_x^2 - 1.10528967923431*10^{85}T_y^2 - 1.52587890625*10^{85}T_z^2)'))\n",
      "\n",
      "display(Math(r'T_a=0.353553390593274T_x + 0.353553390593274T_y + 0.415410035280621T_z + 1.06344969031839*10^{-43}\\sqrt(2.21057935846863*10^{85}C - 1.10528967923432*10^{85}T_x^2 - 1.10528967923431*10^{85}T_y^2 - 1.52587890625*10^{85}T_z^2)'))\n",
      "display(Math(r'T_b=0.353553390593274T_x - 0.353553390593274T_y + 0.415410035280621T_z - 1.06344969031839*10^{-43}\\sqrt(2.21057935846863*10^{85}C - 1.10528967923432*10^{85}T_x^2 - 1.10528967923431*10^{85}T_y^2 - 1.52587890625*10^{85}T_z^2)'))\n",
      "display(Math(r'T_c=-0.353553390593274T_x - 0.353553390593274T_y + 0.415410035280621T_z + 1.06344969031839*10^{-43}\\sqrt(2.21057935846863*10^{85}C - 1.10528967923432*10^{85}T_x^2 - 1.10528967923431*10^{85}T_y^2 - 1.52587890625*10^{85}T_z^2)'))\n",
      "display(Math(r'T_d=-0.353553390593274T_x + 0.353553390593274T_y + 0.415410035280621T_z - 1.06344969031839*10^{-43}\\sqrt(2.21057935846863*10^{85}C - 1.10528967923432*10^{85}T_x^2 - 1.10528967923431*10^{85}T_y^2 - 1.52587890625*10^{85}T_z^2)'))"
     ],
     "language": "python",
     "metadata": {},
     "outputs": [
      {
       "ename": "SyntaxError",
       "evalue": "can't assign to function call (<ipython-input-28-1a7de72da67c>, line 7)",
       "output_type": "pyerr",
       "traceback": [
        "\u001b[0;36m  File \u001b[0;32m\"<ipython-input-28-1a7de72da67c>\"\u001b[0;36m, line \u001b[0;32m7\u001b[0m\n\u001b[0;31m    T_x, T_y, T_z, T_a, T_b, T_c, T_d, C, sin(45), cos(45), cos(53) = sym.symbols('T_x, T_y, T_z, T_a, T_b, T_c, T_d, C, sin(45), cos(45), cos(53)')\u001b[0m\n\u001b[0;31mSyntaxError\u001b[0m\u001b[0;31m:\u001b[0m can't assign to function call\n"
       ]
      }
     ],
     "prompt_number": 28
    },
    {
     "cell_type": "code",
     "collapsed": false,
     "input": [],
     "language": "python",
     "metadata": {},
     "outputs": []
    },
    {
     "cell_type": "code",
     "collapsed": false,
     "input": [
      "c_1=(1.06344969031839*10**-43)**2*(2.21057935846863*10**85)\n",
      "c_2=(1.06344969031839*10**-43)**2*(1.10528967923432*10**85)\n",
      "c_3=(1.06344969031839*10**-43)**2*(1.10528967923431*10**85)\n",
      "c_4=(1.06344969031839*10**-43)**2*(1.52587890625*10**85)\n",
      "display(c_1,c_2,c_3,c_4)"
     ],
     "language": "python",
     "metadata": {},
     "outputs": [
      {
       "metadata": {},
       "output_type": "display_data",
       "text": [
        "0.25000000000000033"
       ]
      },
      {
       "metadata": {},
       "output_type": "display_data",
       "text": [
        "0.12500000000000075"
       ]
      },
      {
       "metadata": {},
       "output_type": "display_data",
       "text": [
        "0.12499999999999963"
       ]
      },
      {
       "metadata": {},
       "output_type": "display_data",
       "text": [
        "0.1725654974118469"
       ]
      }
     ],
     "prompt_number": 27
    },
    {
     "cell_type": "code",
     "collapsed": false,
     "input": [],
     "language": "python",
     "metadata": {},
     "outputs": [],
     "prompt_number": 10
    },
    {
     "cell_type": "code",
     "collapsed": false,
     "input": [],
     "language": "python",
     "metadata": {},
     "outputs": []
    }
   ],
   "metadata": {}
  }
 ]
}