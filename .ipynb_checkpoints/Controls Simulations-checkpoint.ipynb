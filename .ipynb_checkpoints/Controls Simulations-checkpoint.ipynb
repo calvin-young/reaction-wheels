{
 "metadata": {
  "name": "",
  "signature": "sha256:3f703386f70f804f760511d1f622ff1ed2cbbde38df15087a179a5223d92e70b"
 },
 "nbformat": 3,
 "nbformat_minor": 0,
 "worksheets": [
  {
   "cells": [
    {
     "cell_type": "code",
     "collapsed": false,
     "input": [
      "import control\n",
      "import numpy as np\n",
      "\n",
      "\n",
      "Ic_xx = 2.5\n",
      "Ic_yy = 2.5\n",
      "Ic_zz = 2.5 #principal inertia values (lb*in^2)\n",
      "I_rw = 0.0198 #rotational inertia of the reaction wheels (lb*in^2)\n",
      "b_a = b_b = b_c = 0 #damping coefficients\n",
      "#Transfer Function Coefficients\n",
      "TF_cube_coeff_a = np.array([Ic_xx/I_rw, Ic_yy/I_rw, Ic_zz/I_rw])\n",
      "TF_cube_coeff_b = np.array([b_a, b_b, b_c])\n",
      "\n",
      "#controller gains\n",
      "Kp = 3 #initial proportional to make margins above zero\n",
      "\n",
      "#Cardinal to Motor reference frame transform coefficients\n",
      "c_a = np.sin(np.deg2rad(45))/2\n",
      "c_b = np.sin(np.deg2rad(45))/2\n",
      "c_c = 1/(np.cos(np.deg2rad(53))*4)\n",
      "mech_time_constant = 48.9*10**-3 #seconds\n",
      "L = .32*10**-3 #Inductance (H)\n",
      "Kt = 10.4*10**-3 #Torque constant (N-m/A)\n",
      "R = 1.01 #Resistance (Ohm)\n",
      "I = 52.3*10**-7+(2.9*10**-4*I_rw) #Rotor inertia (kg-m2)\n",
      "b = 2.6*10**-6 #Viscous Damping (N-m-s)\n",
      "Kbac = (R*I)/(mech_time_constant*Kt) #Back emf constant (V/(rad/s))\n",
      "\n",
      "num_motor = Kt\n",
      "den_motor = [I*L,(b*L + I*R),(R*b + Kt*Kbac)]\n",
      "sys_motor = control.tf(num_motor,den_motor)\n",
      "#print sys_motor\n",
      "\n",
      "#Motor Transfer Function\n",
      "motor_TF_A = sys_motor\n",
      "motor_TF_B = sys_motor\n",
      "motor_TF_C = sys_motor\n",
      "motor_TF_D = sys_motor\n",
      "\n",
      "#Cube Dynamics\n",
      "num_cube_Ax = [np.sin(np.deg2rad(45)),0]\n",
      "num_cube_Ay = [np.cos(np.deg2rad(45)),0]\n",
      "num_cube_Az = [np.cos(np.deg2rad(53)),0]\n",
      "den_cube_Ax = [TF_cube_coeff_a[0],TF_cube_coeff_b[0]]\n",
      "den_cube_Ay = [TF_cube_coeff_a[1],TF_cube_coeff_b[1]]\n",
      "den_cube_Az = [TF_cube_coeff_a[2],TF_cube_coeff_b[2]]\n",
      "\n",
      "num_cube_Bx = [np.sin(np.deg2rad(45)),0]\n",
      "num_cube_By = [-np.cos(np.deg2rad(45)),0]\n",
      "num_cube_Bz = [np.cos(np.deg2rad(53)),0]\n",
      "den_cube_Bx = den_cube_Ax\n",
      "den_cube_By = den_cube_Ay\n",
      "den_cube_Bz = den_cube_Az\n",
      "\n",
      "num_cube_Cx = [-np.sin(np.deg2rad(45)),0]\n",
      "num_cube_Cy = [-np.cos(np.deg2rad(45)),0]\n",
      "num_cube_Cz = [np.cos(np.deg2rad(53)),0]\n",
      "den_cube_Cx = den_cube_Ax\n",
      "den_cube_Cy = den_cube_Ay\n",
      "den_cube_Cz = den_cube_Az\n",
      "\n",
      "num_cube_Dx = [-np.sin(np.deg2rad(45)),0]\n",
      "num_cube_Dy = [np.cos(np.deg2rad(45)),0]\n",
      "num_cube_Dz = [np.cos(np.deg2rad(53)),0]\n",
      "den_cube_Dx = den_cube_Ax\n",
      "den_cube_Dy = den_cube_Ay\n",
      "den_cube_Dz = den_cube_Az\n",
      "\n",
      "num_cube = [[num_cube_Ax,num_cube_Bx,num_cube_Cx,num_cube_Dx],[num_cube_Ay,num_cube_By,num_cube_Cy,num_cube_Dy],[num_cube_Az,num_cube_Bz,num_cube_Cz,num_cube_Dz]]\n",
      "den_cube = [[den_cube_Ax,den_cube_Bx,den_cube_Cx,den_cube_Dx],[den_cube_Ay,den_cube_By,den_cube_Cy,den_cube_Dy],[den_cube_Az,den_cube_Bz,den_cube_Cz,den_cube_Dz]]\n",
      "cube_TF = control.tf(num_cube,den_cube)\n",
      "#print cube_TF\n",
      "num_card_to_motor = [[[num_motor*c_a],[num_motor*c_b],[num_motor*c_c]],[[num_motor*c_a],[num_motor*-c_b],[num_motor*c_c]],[[num_motor*-c_a],[num_motor*-c_b],[num_motor*c_c]],[[num_motor*-c_a],[num_motor*c_b],[num_motor*c_c]]]\n",
      "den_card_to_motor = [[den_motor for i in range(3)] for j in range(4)]\n",
      "print den_card_to_motor\n",
      "card_to_motor = control.tf(num_card_to_motor,den_card_to_motor)\n",
      "#print card_to_motor\n",
      "\n",
      "Full_cube_TF = control.series(card_to_motor,cube_TF)\n",
      "print Full_cube_TF(1)\n",
      "\n",
      "control.bode_plot(Full_cube_TF(1))"
     ],
     "language": "python",
     "metadata": {},
     "outputs": [
      {
       "output_type": "stream",
       "stream": "stdout",
       "text": [
        "[[[3.51104e-09, 1.1082551999999998e-05, 0.00022924604089979552], [3.51104e-09, 1.1082551999999998e-05, 0.00022924604089979552], [3.51104e-09, 1.1082551999999998e-05, 0.00022924604089979552]], [[3.51104e-09, 1.1082551999999998e-05, 0.00022924604089979552], [3.51104e-09, 1.1082551999999998e-05, 0.00022924604089979552], [3.51104e-09, 1.1082551999999998e-05, 0.00022924604089979552]], [[3.51104e-09, 1.1082551999999998e-05, 0.00022924604089979552], [3.51104e-09, 1.1082551999999998e-05, 0.00022924604089979552], [3.51104e-09, 1.1082551999999998e-05, 0.00022924604089979552]], [[3.51104e-09, 1.1082551999999998e-05, 0.00022924604089979552], [3.51104e-09, 1.1082551999999998e-05, 0.00022924604089979552], [3.51104e-09, 1.1082551999999998e-05, 0.00022924604089979552]]]\n",
        "[[  3.42725748e-01+0.j  -6.28778811e-20+0.j  -7.62342163e-21+0.j]\n",
        " [  0.00000000e+00+0.j   3.42725748e-01+0.j   1.95302510e-18+0.j]\n",
        " [ -1.26710318e-19+0.j   1.90632070e-21+0.j   3.42725748e-01+0.j]]\n"
       ]
      },
      {
       "ename": "AttributeError",
       "evalue": "'numpy.ndarray' object has no attribute 'inputs'",
       "output_type": "pyerr",
       "traceback": [
        "\u001b[0;31m---------------------------------------------------------------------------\u001b[0m\n\u001b[0;31mAttributeError\u001b[0m                            Traceback (most recent call last)",
        "\u001b[0;32m<ipython-input-44-30f69cfcb78b>\u001b[0m in \u001b[0;36m<module>\u001b[0;34m()\u001b[0m\n\u001b[1;32m     80\u001b[0m \u001b[0;32mprint\u001b[0m \u001b[0mFull_cube_TF\u001b[0m\u001b[0;34m(\u001b[0m\u001b[0;36m1\u001b[0m\u001b[0;34m)\u001b[0m\u001b[0;34m\u001b[0m\u001b[0m\n\u001b[1;32m     81\u001b[0m \u001b[0;34m\u001b[0m\u001b[0m\n\u001b[0;32m---> 82\u001b[0;31m \u001b[0mcontrol\u001b[0m\u001b[0;34m.\u001b[0m\u001b[0mbode_plot\u001b[0m\u001b[0;34m(\u001b[0m\u001b[0mFull_cube_TF\u001b[0m\u001b[0;34m(\u001b[0m\u001b[0;36m1\u001b[0m\u001b[0;34m)\u001b[0m\u001b[0;34m)\u001b[0m\u001b[0;34m\u001b[0m\u001b[0m\n\u001b[0m",
        "\u001b[0;32m/usr/local/lib/python2.7/dist-packages/control/freqplot.pyc\u001b[0m in \u001b[0;36mbode_plot\u001b[0;34m(syslist, omega, dB, Hz, deg, Plot, *args, **kwargs)\u001b[0m\n\u001b[1;32m    118\u001b[0m     \u001b[0mmags\u001b[0m\u001b[0;34m,\u001b[0m \u001b[0mphases\u001b[0m\u001b[0;34m,\u001b[0m \u001b[0momegas\u001b[0m \u001b[0;34m=\u001b[0m \u001b[0;34m[\u001b[0m\u001b[0;34m]\u001b[0m\u001b[0;34m,\u001b[0m \u001b[0;34m[\u001b[0m\u001b[0;34m]\u001b[0m\u001b[0;34m,\u001b[0m \u001b[0;34m[\u001b[0m\u001b[0;34m]\u001b[0m\u001b[0;34m\u001b[0m\u001b[0m\n\u001b[1;32m    119\u001b[0m     \u001b[0;32mfor\u001b[0m \u001b[0msys\u001b[0m \u001b[0;32min\u001b[0m \u001b[0msyslist\u001b[0m\u001b[0;34m:\u001b[0m\u001b[0;34m\u001b[0m\u001b[0m\n\u001b[0;32m--> 120\u001b[0;31m         \u001b[0;32mif\u001b[0m \u001b[0;34m(\u001b[0m\u001b[0msys\u001b[0m\u001b[0;34m.\u001b[0m\u001b[0minputs\u001b[0m \u001b[0;34m>\u001b[0m \u001b[0;36m1\u001b[0m \u001b[0;32mor\u001b[0m \u001b[0msys\u001b[0m\u001b[0;34m.\u001b[0m\u001b[0moutputs\u001b[0m \u001b[0;34m>\u001b[0m \u001b[0;36m1\u001b[0m\u001b[0;34m)\u001b[0m\u001b[0;34m:\u001b[0m\u001b[0;34m\u001b[0m\u001b[0m\n\u001b[0m\u001b[1;32m    121\u001b[0m             \u001b[0;31m#TODO: Add MIMO bode plots.\u001b[0m\u001b[0;34m\u001b[0m\u001b[0;34m\u001b[0m\u001b[0m\n\u001b[1;32m    122\u001b[0m             \u001b[0;32mraise\u001b[0m \u001b[0mNotImplementedError\u001b[0m\u001b[0;34m(\u001b[0m\u001b[0;34m\"Bode is currently only implemented for SISO systems.\"\u001b[0m\u001b[0;34m)\u001b[0m\u001b[0;34m\u001b[0m\u001b[0m\n",
        "\u001b[0;31mAttributeError\u001b[0m: 'numpy.ndarray' object has no attribute 'inputs'"
       ]
      }
     ],
     "prompt_number": 44
    },
    {
     "cell_type": "code",
     "collapsed": false,
     "input": [],
     "language": "python",
     "metadata": {},
     "outputs": [],
     "prompt_number": 0
    },
    {
     "cell_type": "code",
     "collapsed": false,
     "input": [],
     "language": "python",
     "metadata": {},
     "outputs": []
    }
   ],
   "metadata": {}
  }
 ]
}