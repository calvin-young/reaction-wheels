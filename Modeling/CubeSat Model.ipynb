{
 "metadata": {
  "name": "",
  "signature": "sha256:2d28c300c690d554c02ae75527215e077864644a4fd754825abd05548244bf32"
 },
 "nbformat": 3,
 "nbformat_minor": 0,
 "worksheets": [
  {
   "cells": [
    {
     "cell_type": "code",
     "collapsed": false,
     "input": [
      "t = linspace(0,6*pi,100);\n",
      "plot(sin(t))\n",
      "grid on\n",
      "hold on\n",
      "plot(cos(t), 'r')"
     ],
     "language": "python",
     "metadata": {},
     "outputs": [],
     "prompt_number": 1
    },
    {
     "cell_type": "code",
     "collapsed": false,
     "input": [],
     "language": "python",
     "metadata": {},
     "outputs": [],
     "prompt_number": 2
    },
    {
     "cell_type": "code",
     "collapsed": false,
     "input": [],
     "language": "python",
     "metadata": {},
     "outputs": []
    }
   ],
   "metadata": {}
  }
 ]
}