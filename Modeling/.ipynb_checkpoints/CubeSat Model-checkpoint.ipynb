{
 "metadata": {
  "name": "",
  "signature": "sha256:fa5227fdbe556e7a261fba58bcfeee06c61fe18caf73c1601a72a98e71db74e9"
 },
 "nbformat": 3,
 "nbformat_minor": 0,
 "worksheets": []
}